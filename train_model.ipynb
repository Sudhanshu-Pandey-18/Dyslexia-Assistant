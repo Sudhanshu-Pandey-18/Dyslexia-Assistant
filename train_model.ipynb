{
 "cells": [
  {
   "cell_type": "code",
   "execution_count": 21,
   "id": "7a59b721-01c1-463d-af6d-68d13dc8070d",
   "metadata": {},
   "outputs": [],
   "source": [
    "# Step 1: Import required libraries\n",
    "import pandas as pd\n",
    "from sklearn.model_selection import train_test_split\n",
    "from sklearn.linear_model import LogisticRegression\n",
    "from sklearn.metrics import classification_report, confusion_matrix\n",
    "import joblib\n",
    "import os\n"
   ]
  },
  {
   "cell_type": "code",
   "execution_count": 13,
   "id": "81b855fa-e19e-4dbe-b702-5ae708006f20",
   "metadata": {},
   "outputs": [
    {
     "data": {
      "text/html": [
       "<div>\n",
       "<style scoped>\n",
       "    .dataframe tbody tr th:only-of-type {\n",
       "        vertical-align: middle;\n",
       "    }\n",
       "\n",
       "    .dataframe tbody tr th {\n",
       "        vertical-align: top;\n",
       "    }\n",
       "\n",
       "    .dataframe thead th {\n",
       "        text-align: right;\n",
       "    }\n",
       "</style>\n",
       "<table border=\"1\" class=\"dataframe\">\n",
       "  <thead>\n",
       "    <tr style=\"text-align: right;\">\n",
       "      <th></th>\n",
       "      <th>excerpt</th>\n",
       "      <th>flesch_score</th>\n",
       "      <th>sentence_count</th>\n",
       "      <th>words_per_sentence</th>\n",
       "      <th>syllable_count</th>\n",
       "      <th>difficult_words</th>\n",
       "      <th>label</th>\n",
       "    </tr>\n",
       "  </thead>\n",
       "  <tbody>\n",
       "    <tr>\n",
       "      <th>0</th>\n",
       "      <td>When the young people returned to the ballroom...</td>\n",
       "      <td>79.251143</td>\n",
       "      <td>11.0</td>\n",
       "      <td>16.272727</td>\n",
       "      <td>235.0</td>\n",
       "      <td>27.0</td>\n",
       "      <td>1</td>\n",
       "    </tr>\n",
       "    <tr>\n",
       "      <th>1</th>\n",
       "      <td>All through dinner time, Mrs. Fayre was somewh...</td>\n",
       "      <td>78.945814</td>\n",
       "      <td>14.0</td>\n",
       "      <td>12.071429</td>\n",
       "      <td>231.0</td>\n",
       "      <td>18.0</td>\n",
       "      <td>1</td>\n",
       "    </tr>\n",
       "    <tr>\n",
       "      <th>2</th>\n",
       "      <td>As Roger had predicted, the snow departed as q...</td>\n",
       "      <td>78.125492</td>\n",
       "      <td>12.0</td>\n",
       "      <td>13.833333</td>\n",
       "      <td>225.0</td>\n",
       "      <td>24.0</td>\n",
       "      <td>1</td>\n",
       "    </tr>\n",
       "    <tr>\n",
       "      <th>3</th>\n",
       "      <td>And outside before the palace a great garden w...</td>\n",
       "      <td>70.372268</td>\n",
       "      <td>5.0</td>\n",
       "      <td>32.800000</td>\n",
       "      <td>200.0</td>\n",
       "      <td>17.0</td>\n",
       "      <td>1</td>\n",
       "    </tr>\n",
       "    <tr>\n",
       "      <th>4</th>\n",
       "      <td>Once upon a time there were Three Bears who li...</td>\n",
       "      <td>79.157265</td>\n",
       "      <td>5.0</td>\n",
       "      <td>29.400000</td>\n",
       "      <td>170.0</td>\n",
       "      <td>3.0</td>\n",
       "      <td>1</td>\n",
       "    </tr>\n",
       "  </tbody>\n",
       "</table>\n",
       "</div>"
      ],
      "text/plain": [
       "                                             excerpt  flesch_score  \\\n",
       "0  When the young people returned to the ballroom...     79.251143   \n",
       "1  All through dinner time, Mrs. Fayre was somewh...     78.945814   \n",
       "2  As Roger had predicted, the snow departed as q...     78.125492   \n",
       "3  And outside before the palace a great garden w...     70.372268   \n",
       "4  Once upon a time there were Three Bears who li...     79.157265   \n",
       "\n",
       "   sentence_count  words_per_sentence  syllable_count  difficult_words  label  \n",
       "0            11.0           16.272727           235.0             27.0      1  \n",
       "1            14.0           12.071429           231.0             18.0      1  \n",
       "2            12.0           13.833333           225.0             24.0      1  \n",
       "3             5.0           32.800000           200.0             17.0      1  \n",
       "4             5.0           29.400000           170.0              3.0      1  "
      ]
     },
     "execution_count": 13,
     "metadata": {},
     "output_type": "execute_result"
    }
   ],
   "source": [
    "# Step 2: Load processed features\n",
    "df = pd.read_csv(r\"C:\\Users\\abc\\Desktop\\Dyslexia-assistant\\data\\processed.csv\")\n",
    "df.head()\n"
   ]
  },
  {
   "cell_type": "code",
   "execution_count": 14,
   "id": "1ce74f46-749b-4ad2-bde3-3dc334668360",
   "metadata": {},
   "outputs": [
    {
     "name": "stdout",
     "output_type": "stream",
     "text": [
      "🔍 Original label distribution:\n",
      "label\n",
      "1    2537\n",
      "0     297\n",
      "Name: count, dtype: int64 \n",
      "\n"
     ]
    }
   ],
   "source": [
    "# Step 3: Show label distribution\n",
    "print(\"🔍 Original label distribution:\")\n",
    "print(df['label'].value_counts(), \"\\n\")"
   ]
  },
  {
   "cell_type": "code",
   "execution_count": 16,
   "id": "f4bd1922-1f91-4b8c-914d-62b149fdb269",
   "metadata": {},
   "outputs": [
    {
     "name": "stdout",
     "output_type": "stream",
     "text": [
      "⚖️ Dataset balanced.\n",
      "label\n",
      "1    297\n",
      "0    297\n",
      "Name: count, dtype: int64 \n",
      "\n"
     ]
    }
   ],
   "source": [
    "# Step 4: Balance the dataset\n",
    "min_count = df['label'].value_counts().min()\n",
    "df_easy = df[df['label'] == 1].sample(n=min_count, random_state=42)\n",
    "df_hard = df[df['label'] == 0].sample(n=min_count, random_state=42)\n",
    "\n",
    "df_balanced = pd.concat([df_easy, df_hard], ignore_index=True).sample(frac=1, random_state=42)\n",
    "print(\"⚖️ Dataset balanced.\")\n",
    "print(df_balanced['label'].value_counts(), \"\\n\")"
   ]
  },
  {
   "cell_type": "code",
   "execution_count": 17,
   "id": "2939329a-7ef8-4a3d-bf2c-322116ddc1ac",
   "metadata": {},
   "outputs": [],
   "source": [
    "# Step 5: Define features and target\n",
    "feature_cols = ['flesch_score', 'sentence_count', 'words_per_sentence', 'syllable_count', 'difficult_words']\n",
    "X = df_balanced[feature_cols]\n",
    "y = df_balanced['label']"
   ]
  },
  {
   "cell_type": "code",
   "execution_count": 18,
   "id": "3037aa2c-3608-4054-9a29-b1e5861a044b",
   "metadata": {},
   "outputs": [
    {
     "name": "stdout",
     "output_type": "stream",
     "text": [
      "📚 Train samples: 475, 🧪 Test samples: 119\n",
      "\n"
     ]
    }
   ],
   "source": [
    "# Step 6: Split into train/test sets\n",
    "X_train, X_test, y_train, y_test = train_test_split(X, y, test_size=0.2, random_state=42)\n",
    "print(f\"📚 Train samples: {len(X_train)}, 🧪 Test samples: {len(X_test)}\\n\")"
   ]
  },
  {
   "cell_type": "code",
   "execution_count": 19,
   "id": "31217c36-513d-4eae-8406-ea73e2cd1fd7",
   "metadata": {},
   "outputs": [
    {
     "name": "stdout",
     "output_type": "stream",
     "text": [
      "✅ Model training complete.\n",
      "\n"
     ]
    }
   ],
   "source": [
    "# Step 7: Train the model\n",
    "model = LogisticRegression()\n",
    "model.fit(X_train, y_train)\n",
    "print(\"✅ Model training complete.\\n\")"
   ]
  },
  {
   "cell_type": "code",
   "execution_count": 22,
   "id": "46c6725f-76e8-44cb-bfb0-1a9b31cd138c",
   "metadata": {},
   "outputs": [
    {
     "name": "stdout",
     "output_type": "stream",
     "text": [
      "📈 Classification Report:\n",
      "              precision    recall  f1-score   support\n",
      "\n",
      "           0       1.00      1.00      1.00        58\n",
      "           1       1.00      1.00      1.00        61\n",
      "\n",
      "    accuracy                           1.00       119\n",
      "   macro avg       1.00      1.00      1.00       119\n",
      "weighted avg       1.00      1.00      1.00       119\n",
      "\n",
      "🧩 Confusion Matrix:\n",
      "[[58  0]\n",
      " [ 0 61]]\n"
     ]
    }
   ],
   "source": [
    "# Step 8: Evaluate the model\n",
    "y_pred = model.predict(X_test)\n",
    "\n",
    "print(\"📈 Classification Report:\")\n",
    "print(classification_report(y_test, y_pred))\n",
    "\n",
    "print(\"🧩 Confusion Matrix:\")\n",
    "print(confusion_matrix(y_test, y_pred))"
   ]
  },
  {
   "cell_type": "code",
   "execution_count": 24,
   "id": "a92a4b62-332c-408c-ac45-bb75985e3a72",
   "metadata": {},
   "outputs": [
    {
     "name": "stdout",
     "output_type": "stream",
     "text": [
      "💾 Model saved to models/readability_model.pkl\n"
     ]
    }
   ],
   "source": [
    "# Step 9: Save the model.\n",
    "os.makedirs(\"models\", exist_ok=True)\n",
    "joblib.dump(model, r\"C:\\Users\\abc\\Desktop\\Dyslexia-assistant\\model\\readability_model.pkl\")\n",
    "print(\"💾 Model saved to models/readability_model.pkl\")"
   ]
  },
  {
   "cell_type": "code",
   "execution_count": null,
   "id": "36e034a9-f7be-4b84-9abe-5b032b664fcf",
   "metadata": {},
   "outputs": [],
   "source": []
  }
 ],
 "metadata": {
  "kernelspec": {
   "display_name": "Python 3 (ipykernel)",
   "language": "python",
   "name": "python3"
  },
  "language_info": {
   "codemirror_mode": {
    "name": "ipython",
    "version": 3
   },
   "file_extension": ".py",
   "mimetype": "text/x-python",
   "name": "python",
   "nbconvert_exporter": "python",
   "pygments_lexer": "ipython3",
   "version": "3.13.5"
  }
 },
 "nbformat": 4,
 "nbformat_minor": 5
}
