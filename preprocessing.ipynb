{
 "cells": [
  {
   "cell_type": "code",
   "execution_count": 25,
   "id": "7d5f0882-9170-402b-b90c-2271e488a34d",
   "metadata": {},
   "outputs": [],
   "source": [
    "# Step 1: Import libraries\n",
    "import pandas as pd\n",
    "import textstat\n",
    "import os"
   ]
  },
  {
   "cell_type": "code",
   "execution_count": 27,
   "id": "68823fe5-1f8e-407d-a402-e54352003f34",
   "metadata": {},
   "outputs": [
    {
     "name": "stdout",
     "output_type": "stream",
     "text": [
      "✅ Dataset loaded successfully\n",
      "          id url_legal license  \\\n",
      "0  c12129c31       NaN     NaN   \n",
      "1  85aa80a4c       NaN     NaN   \n",
      "2  b69ac6792       NaN     NaN   \n",
      "3  dd1000b26       NaN     NaN   \n",
      "4  37c1b32fb       NaN     NaN   \n",
      "\n",
      "                                             excerpt    target  standard_error  \n",
      "0  When the young people returned to the ballroom... -0.340259        0.464009  \n",
      "1  All through dinner time, Mrs. Fayre was somewh... -0.315372        0.480805  \n",
      "2  As Roger had predicted, the snow departed as q... -0.580118        0.476676  \n",
      "3  And outside before the palace a great garden w... -1.054013        0.450007  \n",
      "4  Once upon a time there were Three Bears who li...  0.247197        0.510845  \n"
     ]
    }
   ],
   "source": [
    "# Step 2: Create data folder if it doesn't exist\n",
    "os.makedirs(\"data\", exist_ok=True)\n",
    "\n",
    "# Step 3: Load dataset\n",
    "df = pd.read_csv(r\"C:\\Users\\abc\\Desktop\\Dyslexia-assistant\\data\\train.csv\")\n",
    "print(\"✅ Dataset loaded successfully\")\n",
    "print(df.head())"
   ]
  },
  {
   "cell_type": "code",
   "execution_count": 30,
   "id": "0076244f-bde5-493e-9f9f-1ab2a5238565",
   "metadata": {},
   "outputs": [
    {
     "name": "stdout",
     "output_type": "stream",
     "text": [
      "<class 'pandas.core.frame.DataFrame'>\n",
      "RangeIndex: 2834 entries, 0 to 2833\n",
      "Data columns (total 6 columns):\n",
      " #   Column          Non-Null Count  Dtype  \n",
      "---  ------          --------------  -----  \n",
      " 0   id              2834 non-null   object \n",
      " 1   url_legal       830 non-null    object \n",
      " 2   license         830 non-null    object \n",
      " 3   excerpt         2834 non-null   object \n",
      " 4   target          2834 non-null   float64\n",
      " 5   standard_error  2834 non-null   float64\n",
      "dtypes: float64(2), object(4)\n",
      "memory usage: 133.0+ KB\n"
     ]
    }
   ],
   "source": [
    "df.info()"
   ]
  },
  {
   "cell_type": "code",
   "execution_count": 31,
   "id": "c393aea9-8f1a-4997-b2c2-2c909bdd1156",
   "metadata": {},
   "outputs": [
    {
     "data": {
      "text/html": [
       "<div>\n",
       "<style scoped>\n",
       "    .dataframe tbody tr th:only-of-type {\n",
       "        vertical-align: middle;\n",
       "    }\n",
       "\n",
       "    .dataframe tbody tr th {\n",
       "        vertical-align: top;\n",
       "    }\n",
       "\n",
       "    .dataframe thead th {\n",
       "        text-align: right;\n",
       "    }\n",
       "</style>\n",
       "<table border=\"1\" class=\"dataframe\">\n",
       "  <thead>\n",
       "    <tr style=\"text-align: right;\">\n",
       "      <th></th>\n",
       "      <th>excerpt</th>\n",
       "    </tr>\n",
       "  </thead>\n",
       "  <tbody>\n",
       "    <tr>\n",
       "      <th>0</th>\n",
       "      <td>When the young people returned to the ballroom...</td>\n",
       "    </tr>\n",
       "    <tr>\n",
       "      <th>1</th>\n",
       "      <td>All through dinner time, Mrs. Fayre was somewh...</td>\n",
       "    </tr>\n",
       "    <tr>\n",
       "      <th>2</th>\n",
       "      <td>As Roger had predicted, the snow departed as q...</td>\n",
       "    </tr>\n",
       "    <tr>\n",
       "      <th>3</th>\n",
       "      <td>And outside before the palace a great garden w...</td>\n",
       "    </tr>\n",
       "    <tr>\n",
       "      <th>4</th>\n",
       "      <td>Once upon a time there were Three Bears who li...</td>\n",
       "    </tr>\n",
       "  </tbody>\n",
       "</table>\n",
       "</div>"
      ],
      "text/plain": [
       "                                             excerpt\n",
       "0  When the young people returned to the ballroom...\n",
       "1  All through dinner time, Mrs. Fayre was somewh...\n",
       "2  As Roger had predicted, the snow departed as q...\n",
       "3  And outside before the palace a great garden w...\n",
       "4  Once upon a time there were Three Bears who li..."
      ]
     },
     "execution_count": 31,
     "metadata": {},
     "output_type": "execute_result"
    }
   ],
   "source": [
    "# Step 3: Drop unnecessary columns if they exist\n",
    "columns_to_drop = ['id', 'url_legal', 'license', 'target', 'standard_error']\n",
    "df = df.drop(columns=[col for col in columns_to_drop if col in df.columns], errors='ignore')\n",
    "df.head()"
   ]
  },
  {
   "cell_type": "code",
   "execution_count": 32,
   "id": "ba04c0f4-742b-4a7c-b112-b574daaf3d0a",
   "metadata": {},
   "outputs": [],
   "source": [
    "# Step 4: Define a function to extract readability features\n",
    "def extract_features(text):\n",
    "    return {\n",
    "        'flesch_score': textstat.flesch_reading_ease(text),\n",
    "        'sentence_count': textstat.sentence_count(text),\n",
    "        'words_per_sentence': textstat.words_per_sentence(text),\n",
    "        'syllable_count': textstat.syllable_count(text),\n",
    "        'difficult_words': textstat.difficult_words(text)\n",
    "    }"
   ]
  },
  {
   "cell_type": "code",
   "execution_count": 33,
   "id": "f14cae58-bfab-4279-89c7-98bf4020493c",
   "metadata": {},
   "outputs": [
    {
     "name": "stdout",
     "output_type": "stream",
     "text": [
      "✅ Features extracted. Sample:\n",
      "   flesch_score  sentence_count  words_per_sentence  syllable_count  \\\n",
      "0     79.251143            11.0           16.272727           235.0   \n",
      "1     78.945814            14.0           12.071429           231.0   \n",
      "2     78.125492            12.0           13.833333           225.0   \n",
      "3     70.372268             5.0           32.800000           200.0   \n",
      "4     79.157265             5.0           29.400000           170.0   \n",
      "\n",
      "   difficult_words  \n",
      "0             27.0  \n",
      "1             18.0  \n",
      "2             24.0  \n",
      "3             17.0  \n",
      "4              3.0   \n",
      "\n"
     ]
    }
   ],
   "source": [
    "# Step 5: Apply the feature extraction\n",
    "features = df['excerpt'].apply(extract_features).apply(pd.Series)\n",
    "print(\"✅ Features extracted. Sample:\")\n",
    "print(features.head(), \"\\n\")"
   ]
  },
  {
   "cell_type": "code",
   "execution_count": 34,
   "id": "1f4ce43c-753c-487c-bdca-33c05488b34b",
   "metadata": {},
   "outputs": [
    {
     "data": {
      "text/html": [
       "<div>\n",
       "<style scoped>\n",
       "    .dataframe tbody tr th:only-of-type {\n",
       "        vertical-align: middle;\n",
       "    }\n",
       "\n",
       "    .dataframe tbody tr th {\n",
       "        vertical-align: top;\n",
       "    }\n",
       "\n",
       "    .dataframe thead th {\n",
       "        text-align: right;\n",
       "    }\n",
       "</style>\n",
       "<table border=\"1\" class=\"dataframe\">\n",
       "  <thead>\n",
       "    <tr style=\"text-align: right;\">\n",
       "      <th></th>\n",
       "      <th>excerpt</th>\n",
       "      <th>flesch_score</th>\n",
       "      <th>sentence_count</th>\n",
       "      <th>words_per_sentence</th>\n",
       "      <th>syllable_count</th>\n",
       "      <th>difficult_words</th>\n",
       "    </tr>\n",
       "  </thead>\n",
       "  <tbody>\n",
       "    <tr>\n",
       "      <th>0</th>\n",
       "      <td>When the young people returned to the ballroom...</td>\n",
       "      <td>79.251143</td>\n",
       "      <td>11.0</td>\n",
       "      <td>16.272727</td>\n",
       "      <td>235.0</td>\n",
       "      <td>27.0</td>\n",
       "    </tr>\n",
       "    <tr>\n",
       "      <th>1</th>\n",
       "      <td>All through dinner time, Mrs. Fayre was somewh...</td>\n",
       "      <td>78.945814</td>\n",
       "      <td>14.0</td>\n",
       "      <td>12.071429</td>\n",
       "      <td>231.0</td>\n",
       "      <td>18.0</td>\n",
       "    </tr>\n",
       "    <tr>\n",
       "      <th>2</th>\n",
       "      <td>As Roger had predicted, the snow departed as q...</td>\n",
       "      <td>78.125492</td>\n",
       "      <td>12.0</td>\n",
       "      <td>13.833333</td>\n",
       "      <td>225.0</td>\n",
       "      <td>24.0</td>\n",
       "    </tr>\n",
       "    <tr>\n",
       "      <th>3</th>\n",
       "      <td>And outside before the palace a great garden w...</td>\n",
       "      <td>70.372268</td>\n",
       "      <td>5.0</td>\n",
       "      <td>32.800000</td>\n",
       "      <td>200.0</td>\n",
       "      <td>17.0</td>\n",
       "    </tr>\n",
       "    <tr>\n",
       "      <th>4</th>\n",
       "      <td>Once upon a time there were Three Bears who li...</td>\n",
       "      <td>79.157265</td>\n",
       "      <td>5.0</td>\n",
       "      <td>29.400000</td>\n",
       "      <td>170.0</td>\n",
       "      <td>3.0</td>\n",
       "    </tr>\n",
       "  </tbody>\n",
       "</table>\n",
       "</div>"
      ],
      "text/plain": [
       "                                             excerpt  flesch_score  \\\n",
       "0  When the young people returned to the ballroom...     79.251143   \n",
       "1  All through dinner time, Mrs. Fayre was somewh...     78.945814   \n",
       "2  As Roger had predicted, the snow departed as q...     78.125492   \n",
       "3  And outside before the palace a great garden w...     70.372268   \n",
       "4  Once upon a time there were Three Bears who li...     79.157265   \n",
       "\n",
       "   sentence_count  words_per_sentence  syllable_count  difficult_words  \n",
       "0            11.0           16.272727           235.0             27.0  \n",
       "1            14.0           12.071429           231.0             18.0  \n",
       "2            12.0           13.833333           225.0             24.0  \n",
       "3             5.0           32.800000           200.0             17.0  \n",
       "4             5.0           29.400000           170.0              3.0  "
      ]
     },
     "execution_count": 34,
     "metadata": {},
     "output_type": "execute_result"
    }
   ],
   "source": [
    "# Step 6: Concatenate features back to the original DataFrame\n",
    "df = pd.concat([df, features], axis=1)\n",
    "df.head()"
   ]
  },
  {
   "cell_type": "code",
   "execution_count": 35,
   "id": "d3901b64-11f0-4314-a758-7c91770b61ae",
   "metadata": {},
   "outputs": [
    {
     "name": "stdout",
     "output_type": "stream",
     "text": [
      "✅ Final DataFrame sample:\n",
      "                                             excerpt  flesch_score  \\\n",
      "0  When the young people returned to the ballroom...     79.251143   \n",
      "1  All through dinner time, Mrs. Fayre was somewh...     78.945814   \n",
      "2  As Roger had predicted, the snow departed as q...     78.125492   \n",
      "3  And outside before the palace a great garden w...     70.372268   \n",
      "4  Once upon a time there were Three Bears who li...     79.157265   \n",
      "\n",
      "   sentence_count  words_per_sentence  syllable_count  difficult_words  label  \n",
      "0            11.0           16.272727           235.0             27.0      1  \n",
      "1            14.0           12.071429           231.0             18.0      1  \n",
      "2            12.0           13.833333           225.0             24.0      1  \n",
      "3             5.0           32.800000           200.0             17.0      1  \n",
      "4             5.0           29.400000           170.0              3.0      1   \n",
      "\n"
     ]
    }
   ],
   "source": [
    "# Step 7: Create label column: 1 = Easy, 0 = Hard based on Flesch > 40\n",
    "df['label'] = df['flesch_score'].apply(lambda x: 1 if x > 40 else 0)\n",
    "\n",
    "# Step 8: Display final dataset info\n",
    "print(\"✅ Final DataFrame sample:\")\n",
    "print(df.head(), \"\\n\")"
   ]
  },
  {
   "cell_type": "code",
   "execution_count": 36,
   "id": "3c01ae05-32d6-4022-9017-3a26f89e277c",
   "metadata": {},
   "outputs": [
    {
     "name": "stdout",
     "output_type": "stream",
     "text": [
      "📊 Label distribution:\n",
      "label\n",
      "1    2537\n",
      "0     297\n",
      "Name: count, dtype: int64 \n",
      "\n"
     ]
    }
   ],
   "source": [
    "\n",
    "print(\"📊 Label distribution:\")\n",
    "print(df['label'].value_counts(), \"\\n\")"
   ]
  },
  {
   "cell_type": "code",
   "execution_count": 37,
   "id": "2c8c7d72-f389-4a43-8841-596b5ce566b2",
   "metadata": {},
   "outputs": [
    {
     "name": "stdout",
     "output_type": "stream",
     "text": [
      "💾 Processed data saved as: data/processed.csv\n"
     ]
    }
   ],
   "source": [
    "# Step 9: Save the processed dataset\n",
    "df.to_csv(r\"C:\\Users\\abc\\Desktop\\Dyslexia-assistant\\data\\processed.csv\", index=False)\n",
    "print(\"💾 Processed data saved as: data/processed.csv\")"
   ]
  },
  {
   "cell_type": "code",
   "execution_count": 38,
   "id": "51a91f69-9f6b-43d6-813f-f20f119674a6",
   "metadata": {},
   "outputs": [
    {
     "data": {
      "text/html": [
       "<div>\n",
       "<style scoped>\n",
       "    .dataframe tbody tr th:only-of-type {\n",
       "        vertical-align: middle;\n",
       "    }\n",
       "\n",
       "    .dataframe tbody tr th {\n",
       "        vertical-align: top;\n",
       "    }\n",
       "\n",
       "    .dataframe thead th {\n",
       "        text-align: right;\n",
       "    }\n",
       "</style>\n",
       "<table border=\"1\" class=\"dataframe\">\n",
       "  <thead>\n",
       "    <tr style=\"text-align: right;\">\n",
       "      <th></th>\n",
       "      <th>excerpt</th>\n",
       "      <th>flesch_score</th>\n",
       "      <th>sentence_count</th>\n",
       "      <th>words_per_sentence</th>\n",
       "      <th>syllable_count</th>\n",
       "      <th>difficult_words</th>\n",
       "      <th>label</th>\n",
       "    </tr>\n",
       "  </thead>\n",
       "  <tbody>\n",
       "    <tr>\n",
       "      <th>0</th>\n",
       "      <td>When the young people returned to the ballroom...</td>\n",
       "      <td>79.251143</td>\n",
       "      <td>11.0</td>\n",
       "      <td>16.272727</td>\n",
       "      <td>235.0</td>\n",
       "      <td>27.0</td>\n",
       "      <td>1</td>\n",
       "    </tr>\n",
       "    <tr>\n",
       "      <th>1</th>\n",
       "      <td>All through dinner time, Mrs. Fayre was somewh...</td>\n",
       "      <td>78.945814</td>\n",
       "      <td>14.0</td>\n",
       "      <td>12.071429</td>\n",
       "      <td>231.0</td>\n",
       "      <td>18.0</td>\n",
       "      <td>1</td>\n",
       "    </tr>\n",
       "    <tr>\n",
       "      <th>2</th>\n",
       "      <td>As Roger had predicted, the snow departed as q...</td>\n",
       "      <td>78.125492</td>\n",
       "      <td>12.0</td>\n",
       "      <td>13.833333</td>\n",
       "      <td>225.0</td>\n",
       "      <td>24.0</td>\n",
       "      <td>1</td>\n",
       "    </tr>\n",
       "    <tr>\n",
       "      <th>3</th>\n",
       "      <td>And outside before the palace a great garden w...</td>\n",
       "      <td>70.372268</td>\n",
       "      <td>5.0</td>\n",
       "      <td>32.800000</td>\n",
       "      <td>200.0</td>\n",
       "      <td>17.0</td>\n",
       "      <td>1</td>\n",
       "    </tr>\n",
       "    <tr>\n",
       "      <th>4</th>\n",
       "      <td>Once upon a time there were Three Bears who li...</td>\n",
       "      <td>79.157265</td>\n",
       "      <td>5.0</td>\n",
       "      <td>29.400000</td>\n",
       "      <td>170.0</td>\n",
       "      <td>3.0</td>\n",
       "      <td>1</td>\n",
       "    </tr>\n",
       "  </tbody>\n",
       "</table>\n",
       "</div>"
      ],
      "text/plain": [
       "                                             excerpt  flesch_score  \\\n",
       "0  When the young people returned to the ballroom...     79.251143   \n",
       "1  All through dinner time, Mrs. Fayre was somewh...     78.945814   \n",
       "2  As Roger had predicted, the snow departed as q...     78.125492   \n",
       "3  And outside before the palace a great garden w...     70.372268   \n",
       "4  Once upon a time there were Three Bears who li...     79.157265   \n",
       "\n",
       "   sentence_count  words_per_sentence  syllable_count  difficult_words  label  \n",
       "0            11.0           16.272727           235.0             27.0      1  \n",
       "1            14.0           12.071429           231.0             18.0      1  \n",
       "2            12.0           13.833333           225.0             24.0      1  \n",
       "3             5.0           32.800000           200.0             17.0      1  \n",
       "4             5.0           29.400000           170.0              3.0      1  "
      ]
     },
     "execution_count": 38,
     "metadata": {},
     "output_type": "execute_result"
    }
   ],
   "source": [
    "df.head()"
   ]
  },
  {
   "cell_type": "code",
   "execution_count": null,
   "id": "e8c7fb49-cbb9-4320-a2bc-3c3b9cd6c55b",
   "metadata": {},
   "outputs": [],
   "source": []
  }
 ],
 "metadata": {
  "kernelspec": {
   "display_name": "Python 3 (ipykernel)",
   "language": "python",
   "name": "python3"
  },
  "language_info": {
   "codemirror_mode": {
    "name": "ipython",
    "version": 3
   },
   "file_extension": ".py",
   "mimetype": "text/x-python",
   "name": "python",
   "nbconvert_exporter": "python",
   "pygments_lexer": "ipython3",
   "version": "3.13.5"
  }
 },
 "nbformat": 4,
 "nbformat_minor": 5
}
